{
 "cells": [
  {
   "cell_type": "code",
   "execution_count": 3,
   "metadata": {},
   "outputs": [
    {
     "name": "stdout",
     "output_type": "stream",
     "text": [
      "Student name and department need to be set\n",
      "=========================\n",
      "Department for Carol needs to be set\n",
      "=========================\n",
      "Jon is from EEE department\n",
      "=========================\n",
      "###########################\n",
      "Name: Bob\n",
      "Department: CSE\n",
      "Bob enrolled in 3 course(s):\n",
      "CSE110, MAT110, ENG091, \n",
      "\n",
      "=========================\n",
      "Name: Carol\n",
      "Department: BBA\n",
      "Carol enrolled in 1 course(s):\n",
      "BUS101, \n",
      "\n",
      "=========================\n",
      "Name: Jon\n",
      "Department: EEE\n",
      "Jon enrolled in 2 course(s):\n",
      "MAT110, PHY111, \n",
      "\n"
     ]
    }
   ],
   "source": [
    "# Lab task 20: \n",
    "\n",
    "class Student:\n",
    "    def __init__(self, name = None, dept = None):\n",
    "        self.name = name\n",
    "        self.dept = dept\n",
    "        self.courses = []\n",
    "\n",
    "        if (self.name == None and self.dept == None):\n",
    "            print(\"Student name and department need to be set\")\n",
    "        elif (self.dept == None):\n",
    "            print(f\"Department for {self.name} needs to be set\")\n",
    "        else :\n",
    "            print(f\"{self.name} is from {self.dept} department\")\n",
    "\n",
    "\n",
    "\n",
    "    def update_name(self, name):\n",
    "        self.name = name\n",
    "\n",
    "    def update_department(self, dept):\n",
    "        self.dept = dept\n",
    "\n",
    "    def enroll(self, *args):\n",
    "        for course in args:\n",
    "            self.courses.append(course)\n",
    "\n",
    "\n",
    "    def printDetail(self):\n",
    "        print(f\"Name: {self.name}\")\n",
    "        print(f\"Department: {self.dept}\")\n",
    "        print(f\"{self.name} enrolled in {len(self.courses)} course(s):\")\n",
    "        for course in self.courses:\n",
    "            print(course, end=\", \")\n",
    "        print(\"\\n\")\n",
    "\n",
    "\n",
    "\n",
    "# ===========================\n",
    "s1 = Student()\n",
    "print(\"=========================\")\n",
    "s2 = Student(\"Carol\")\n",
    "print(\"=========================\")\n",
    "s3 = Student(\"Jon\", \"EEE\")\n",
    "print(\"=========================\")\n",
    "s1.update_name(\"Bob\")\n",
    "s1.update_department(\"CSE\")\n",
    "s2.update_department(\"BBA\")\n",
    "s1.enroll(\"CSE110\", \"MAT110\", \"ENG091\")\n",
    "s2.enroll(\"BUS101\")\n",
    "s3.enroll(\"MAT110\", \"PHY111\")\n",
    "print(\"###########################\")\n",
    "s1.printDetail()\n",
    "print(\"=========================\")\n",
    "s2.printDetail()\n",
    "print(\"=========================\")\n",
    "s3.printDetail()\n"
   ]
  },
  {
   "cell_type": "code",
   "execution_count": 4,
   "metadata": {},
   "outputs": [
    {
     "name": "stdout",
     "output_type": "stream",
     "text": [
      "36 3 39\n",
      "9 3 18\n",
      "36 6 60\n",
      "15 6 30\n",
      "36 9 75\n",
      "21 9 42\n",
      "36 12 90\n",
      "27 12 54\n"
     ]
    }
   ],
   "source": [
    "class Test3:\n",
    "    def __init__(self):\n",
    "        self.sum, self.y = 0, 0\n",
    "    def methodA(self):\n",
    "        x, y = 2, 3\n",
    "        msg = [0]\n",
    "        msg[0] = 3\n",
    "        y = self.y + msg[0]\n",
    "        self.methodB(msg, msg[0])\n",
    "        x = self.y + msg[0]\n",
    "        self.sum = x + y + msg[0]\n",
    "        print(x, y, self.sum)\n",
    "    def methodB(self, mg2, mg1):\n",
    "        x = 0\n",
    "        self.y = self.y + mg2[0]\n",
    "        x = x + 33 + mg1\n",
    "        self.sum = self.sum + x + self.y\n",
    "        mg2[0] = self.y + mg1\n",
    "        mg1 = mg1 + x + 2\n",
    "        print(x, self.y, self.sum)\n",
    "\n",
    "t3 = Test3()\n",
    "t3.methodA()\n",
    "t3.methodA()\n",
    "t3.methodA()\n",
    "t3.methodA()\n"
   ]
  }
 ],
 "metadata": {
  "kernelspec": {
   "display_name": "Python 3.10.7 64-bit",
   "language": "python",
   "name": "python3"
  },
  "language_info": {
   "codemirror_mode": {
    "name": "ipython",
    "version": 3
   },
   "file_extension": ".py",
   "mimetype": "text/x-python",
   "name": "python",
   "nbconvert_exporter": "python",
   "pygments_lexer": "ipython3",
   "version": "3.10.7"
  },
  "orig_nbformat": 4,
  "vscode": {
   "interpreter": {
    "hash": "2f618269b973d24085f675b42f2810613f479d8adb53313aa29e50ef167b85a5"
   }
  }
 },
 "nbformat": 4,
 "nbformat_minor": 2
}
